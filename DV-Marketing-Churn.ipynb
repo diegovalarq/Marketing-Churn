{
  "cells": [
    {
      "cell_type": "markdown",
      "metadata": {
        "id": "W5VAYKLU8W5W"
      },
      "source": [
        "<h1 align='center'>Laboratorio de Fuga</h1>\n",
        "\n",
        "<h2>1. Importación de Librerías</h2>\n",
        "\n",
        "Para simplificar el ejercicio, primero importaremos las librerías, sin necesidad de levantar un ambiente virtual e instalarlas en éste, gracias a las virtudes de Google Colaboratory como editor. Otra de las ventajas de  este intérprete de Python, es que funciona con el formato de celdas de los *Jupyter Notebooks*. Esto permite trabajar bajo el paradigma de lo que se denomina *Literate Programming*, pudiéndose hacer un claro énfasis en la estructura lógica del programa.\n",
        "\n",
        "Para ejecutar la celda a continuación, bastará que usted la seleccione apretando sobre ella con el cursor, y luego apriete <code>shift+enter</code>\n",
        "\n",
        "\n"
      ]
    },
    {
      "cell_type": "code",
      "execution_count": 161,
      "metadata": {
        "id": "5P9YZjV04Chg"
      },
      "outputs": [],
      "source": [
        "# Statistical Libraries\n",
        "import numpy as np\n",
        "import statsmodels.api as sm\n",
        "\n",
        "# Operational Libraries\n",
        "import pandas as pd\n",
        "from typing import Optional\n",
        "import datetime"
      ]
    },
    {
      "cell_type": "markdown",
      "metadata": {
        "id": "qY2KEX-8DalQ"
      },
      "source": [
        "<h2>2. Lectura de la Tabla de Datos</h2>\n",
        "\n",
        "Para ejercitar, utilizaremos una tabla de datos (en adelante <i>dataset</i>) proporcionada por la empresa de Telecom, perteneciente a la industria de las telecomunicaciones en Chile. Los datos no han sido procesados, por lo que hay ciertos campos que se transformarán y otros tantos que enriqueceremos en el proceso de segmentación.\n",
        "\n",
        "Es importante notar que hay una columna numérica de identificación de los sujetos, denominada \"Identificador\". No se confunda, esta variable es arbitraria para todos los efectos prácticos, y no debe ser considerada para el análisis, salvo que sea considerada como llave relacional. Si usted no se encuentra familiarizado con el lenguaje y las librerías, Pandas incluye siempre un índice que comúnmente es también numérico. No confunda el índice con la columna de identificación."
      ]
    },
    {
      "cell_type": "code",
      "execution_count": 162,
      "metadata": {
        "colab": {
          "base_uri": "https://localhost:8080/",
          "height": 342
        },
        "id": "yU6wOdw76dB4",
        "outputId": "2949b379-7f41-45b6-8466-5214001121f3"
      },
      "outputs": [
        {
          "data": {
            "text/html": [
              "<div>\n",
              "<style scoped>\n",
              "    .dataframe tbody tr th:only-of-type {\n",
              "        vertical-align: middle;\n",
              "    }\n",
              "\n",
              "    .dataframe tbody tr th {\n",
              "        vertical-align: top;\n",
              "    }\n",
              "\n",
              "    .dataframe thead th {\n",
              "        text-align: right;\n",
              "    }\n",
              "</style>\n",
              "<table border=\"1\" class=\"dataframe\">\n",
              "  <thead>\n",
              "    <tr style=\"text-align: right;\">\n",
              "      <th></th>\n",
              "      <th>CustomerId</th>\n",
              "      <th>Surname</th>\n",
              "      <th>CreditScore</th>\n",
              "      <th>Geography</th>\n",
              "      <th>Gender</th>\n",
              "      <th>Age</th>\n",
              "      <th>Tenure</th>\n",
              "      <th>Balance</th>\n",
              "      <th>NumOfProducts</th>\n",
              "      <th>HasCrCard</th>\n",
              "      <th>IsActiveMember</th>\n",
              "      <th>EstimatedSalary</th>\n",
              "      <th>Exited</th>\n",
              "    </tr>\n",
              "  </thead>\n",
              "  <tbody>\n",
              "    <tr>\n",
              "      <th>0</th>\n",
              "      <td>15634602</td>\n",
              "      <td>Hargrave</td>\n",
              "      <td>619</td>\n",
              "      <td>France</td>\n",
              "      <td>Female</td>\n",
              "      <td>42</td>\n",
              "      <td>2</td>\n",
              "      <td>0.00</td>\n",
              "      <td>1</td>\n",
              "      <td>1</td>\n",
              "      <td>1</td>\n",
              "      <td>101348.88</td>\n",
              "      <td>1</td>\n",
              "    </tr>\n",
              "    <tr>\n",
              "      <th>1</th>\n",
              "      <td>15647311</td>\n",
              "      <td>Hill</td>\n",
              "      <td>608</td>\n",
              "      <td>Spain</td>\n",
              "      <td>Female</td>\n",
              "      <td>41</td>\n",
              "      <td>1</td>\n",
              "      <td>83807.86</td>\n",
              "      <td>1</td>\n",
              "      <td>0</td>\n",
              "      <td>1</td>\n",
              "      <td>112542.58</td>\n",
              "      <td>0</td>\n",
              "    </tr>\n",
              "    <tr>\n",
              "      <th>2</th>\n",
              "      <td>15619304</td>\n",
              "      <td>Onio</td>\n",
              "      <td>502</td>\n",
              "      <td>France</td>\n",
              "      <td>Female</td>\n",
              "      <td>42</td>\n",
              "      <td>8</td>\n",
              "      <td>159660.80</td>\n",
              "      <td>3</td>\n",
              "      <td>1</td>\n",
              "      <td>0</td>\n",
              "      <td>113931.57</td>\n",
              "      <td>1</td>\n",
              "    </tr>\n",
              "    <tr>\n",
              "      <th>3</th>\n",
              "      <td>15701354</td>\n",
              "      <td>Boni</td>\n",
              "      <td>699</td>\n",
              "      <td>France</td>\n",
              "      <td>Female</td>\n",
              "      <td>39</td>\n",
              "      <td>1</td>\n",
              "      <td>0.00</td>\n",
              "      <td>2</td>\n",
              "      <td>0</td>\n",
              "      <td>0</td>\n",
              "      <td>93826.63</td>\n",
              "      <td>0</td>\n",
              "    </tr>\n",
              "    <tr>\n",
              "      <th>4</th>\n",
              "      <td>15737888</td>\n",
              "      <td>Mitchell</td>\n",
              "      <td>850</td>\n",
              "      <td>Spain</td>\n",
              "      <td>Female</td>\n",
              "      <td>43</td>\n",
              "      <td>2</td>\n",
              "      <td>125510.82</td>\n",
              "      <td>1</td>\n",
              "      <td>1</td>\n",
              "      <td>1</td>\n",
              "      <td>79084.1</td>\n",
              "      <td>0</td>\n",
              "    </tr>\n",
              "  </tbody>\n",
              "</table>\n",
              "</div>"
            ],
            "text/plain": [
              "   CustomerId   Surname  CreditScore Geography  Gender  Age  Tenure  \\\n",
              "0    15634602  Hargrave          619    France  Female   42       2   \n",
              "1    15647311      Hill          608     Spain  Female   41       1   \n",
              "2    15619304      Onio          502    France  Female   42       8   \n",
              "3    15701354      Boni          699    France  Female   39       1   \n",
              "4    15737888  Mitchell          850     Spain  Female   43       2   \n",
              "\n",
              "     Balance  NumOfProducts  HasCrCard  IsActiveMember EstimatedSalary  Exited  \n",
              "0       0.00              1          1               1       101348.88       1  \n",
              "1   83807.86              1          0               1       112542.58       0  \n",
              "2  159660.80              3          1               0       113931.57       1  \n",
              "3       0.00              2          0               0        93826.63       0  \n",
              "4  125510.82              1          1               1         79084.1       0  "
            ]
          },
          "execution_count": 162,
          "metadata": {},
          "output_type": "execute_result"
        }
      ],
      "source": [
        "#Importing the prospects dataset using pandas\n",
        "file_path = f'propuesto_tymo.xlsx'\n",
        "dataset_tymo = pd.read_excel(file_path, sheet_name='propuesto_tymo')\n",
        "\n",
        "# Display of last 5 rows\n",
        "dataset_tymo.head(5)"
      ]
    },
    {
      "cell_type": "markdown",
      "metadata": {
        "id": "yB-KSBc_gOFB"
      },
      "source": [
        "Vamos a analizar las distintas columnas de las que disponemos, utilizando funciones como las que se muestran a continuación:"
      ]
    },
    {
      "cell_type": "code",
      "execution_count": 163,
      "metadata": {
        "colab": {
          "base_uri": "https://localhost:8080/"
        },
        "id": "s8pHoVszgOFB",
        "outputId": "74b14dc8-68a6-4c49-e112-09a5a87a6166"
      },
      "outputs": [
        {
          "name": "stdout",
          "output_type": "stream",
          "text": [
            "CustomerId: [15634602 15647311 15619304 15701354 15737888] (muestra)\n",
            "Surname: ['Hargrave' 'Hill' 'Onio' 'Boni' 'Mitchell'] (muestra)\n",
            "CreditScore: [619 608 502 699 850] (muestra)\n",
            "Geography: ['France' 'Spain' 'Germany']\n",
            "Gender: ['Female' 'Male']\n",
            "Age: [42 41 39 43 44] (muestra)\n",
            "Tenure: [2 1 8 7 4] (muestra)\n",
            "Balance: [     0.    83807.86 159660.8  125510.82 113755.78] (muestra)\n",
            "NumOfProducts: [1 3 2 4]\n",
            "HasCrCard: [1 0]\n",
            "IsActiveMember: [1 0]\n",
            "EstimatedSalary: ['101348.88' '112542.58' '113931.57' '93826.63' '79084.1'] (muestra)\n",
            "Exited: [1 0]\n"
          ]
        }
      ],
      "source": [
        "for col in dataset_tymo.columns:\n",
        "    unique_values = dataset_tymo[col].unique()\n",
        "\n",
        "    if len(unique_values) < 5:\n",
        "        print(f'{col}: {unique_values}')\n",
        "\n",
        "    else:\n",
        "        print(f'{col}: {unique_values[:5]} (muestra)')"
      ]
    },
    {
      "cell_type": "markdown",
      "metadata": {
        "id": "3w1LwbimgOFB"
      },
      "source": [
        "Gracias al análisis anterior, podemos tener una visión más clara respecto al contenido de cada columna, pudiéndose construir una tabla que las describra, como se muestra a continuación (Pendiente: crear nueva tabla):\n",
        "\n",
        "| Columna | Nombre de la Variable | Contenido de la Columna | Medida o Alternativas |\n",
        "|---------|----------------------|-------------------------|-----------------------|\n",
        "| 1       | customerID           | Identificador único del cliente | 15634602, 15647311, 15619304, 15701354, ... |\n",
        "| 2       | Surname              | Apellido del cliente | Hargrave, Hill, Onio, Boni, ... |\n",
        "| 3       | CreditScore          | Puntaje de crédito del cliente | 619, 608, 502, 699, 850 ... |\n",
        "| 4       | Geography            | País de residencia del cliente | France, Spain, Germany |\n",
        "| 5       | gender               | Género del cliente | Female, Male |\n",
        "| 6       | Age                  | Edad del cliente | 42, 41, 39, 43, 44, ... |\n",
        "| 7       | Tenure               | Número de meses que el cliente ha estado en el servicio | 2, 1, 8, 7, 4, ... |\n",
        "| 8       | Balance              | Saldo de la cuenta del cliente | 0.00, 83807.86, 159660.80, 125510.82, 113755.78, ... |\n",
        "| 9       | NumOfProducts        | Número de productos que el cliente tiene contratados | 1, 3, 2, 4 |\n",
        "| 10      | HasCrCard            | Indica si el cliente tiene tarjeta de crédito | 1, 0 |\n",
        "| 11      | IsActiveMember       | Indica si el cliente es un miembro activo | 1, 0 |\n",
        "| 12      | EstimatedSalary      | Salario estimado del cliente | 101348.88, 112542.58, 113931.57, 93826.63, 79084.1, ... |\n",
        "| 13      | Exited               | Indica si el cliente ha abandonado el servicio | 1, 0 |\n",
        "\n"
      ]
    },
    {
      "cell_type": "markdown",
      "metadata": {
        "id": "wwT7B0OU0qwp"
      },
      "source": [
        "<h2>3. Transformación de los Datos</h2>\n",
        "\n",
        "A continuación procederemos a transformar los datos, creando un dataset numérico a partir del que descargamos. Si bien es más costoso en memoria el uso de réplicas completas de los datasets utilizados, esta práctica es conveniente cuando se trabaja con Jupyter Notebooks que podrían ser ejecutados en desorden o múltiples veces."
      ]
    },
    {
      "cell_type": "code",
      "execution_count": 164,
      "metadata": {
        "id": "Bf1gqvEc0pss"
      },
      "outputs": [],
      "source": [
        "# Copying our dataset to avoid future issues\n",
        "dataset_tymo_numerico = dataset_tymo.copy(deep=True)"
      ]
    },
    {
      "cell_type": "markdown",
      "metadata": {
        "id": "PJ-qltiZgOFC"
      },
      "source": [
        "Recordemos que los datos recolectados en una encuesta pueden ser de cuatro tipos principalmente:\n",
        "\n",
        "- Nominal: nombres (identificación y clasificación)\n",
        "- Ordinal: orden (jerarquización, posición relativa)\n",
        "- Intervalo: cuantificación (cero arbitrario)\n",
        "- Escala: cuantificación (cero absoluto)\n",
        "\n",
        "Es importante que usted identifique el tipo de cada variable, para que así le sea más sencillo transformar los datos en información valiosa para su posterior análisis. Para efectos de este ejemplo, dividiremos la transformación de los datos por tipo para mayor claridad, transformando aquellas variables de tipo texto en numéricas según corresponda."
      ]
    },
    {
      "cell_type": "code",
      "execution_count": 165,
      "metadata": {
        "id": "70TPrW8DgOFC"
      },
      "outputs": [],
      "source": [
        "cols_nominal = [ 'CustomerId', 'Surname', 'Geography', 'Gender', 'HasCrCard', 'IsActiveMember', 'Exited']\n",
        "\n",
        "cols_escala = [ 'CreditScore', 'Age', 'Tenure', 'Balance', 'NumOfProducts', 'EstimatedSalary']\n",
        "\n",
        "# We didn't find any ordinal columns in the dataset we are working with\n",
        "# We also didn't find any interval columns in the dataset we are working with"
      ]
    },
    {
      "cell_type": "markdown",
      "metadata": {},
      "source": [
        "<h3>3.1. Valores Nominales</h3>"
      ]
    },
    {
      "cell_type": "markdown",
      "metadata": {},
      "source": [
        "En primera instancia, se ha decidido que la columna \"Surname\" no contiene información relevante para el análisis de fuga de clientes, por lo que se eliminará del dataset. Ya contamos con la variable \"customerID\" como identificador exclusivo de los clientes, por lo que no necesitamos su apellido."
      ]
    },
    {
      "cell_type": "code",
      "execution_count": 166,
      "metadata": {},
      "outputs": [
        {
          "data": {
            "text/html": [
              "<div>\n",
              "<style scoped>\n",
              "    .dataframe tbody tr th:only-of-type {\n",
              "        vertical-align: middle;\n",
              "    }\n",
              "\n",
              "    .dataframe tbody tr th {\n",
              "        vertical-align: top;\n",
              "    }\n",
              "\n",
              "    .dataframe thead th {\n",
              "        text-align: right;\n",
              "    }\n",
              "</style>\n",
              "<table border=\"1\" class=\"dataframe\">\n",
              "  <thead>\n",
              "    <tr style=\"text-align: right;\">\n",
              "      <th></th>\n",
              "      <th>CustomerId</th>\n",
              "      <th>CreditScore</th>\n",
              "      <th>Geography</th>\n",
              "      <th>Gender</th>\n",
              "      <th>Age</th>\n",
              "      <th>Tenure</th>\n",
              "      <th>Balance</th>\n",
              "      <th>NumOfProducts</th>\n",
              "      <th>HasCrCard</th>\n",
              "      <th>IsActiveMember</th>\n",
              "      <th>EstimatedSalary</th>\n",
              "      <th>Exited</th>\n",
              "    </tr>\n",
              "  </thead>\n",
              "  <tbody>\n",
              "    <tr>\n",
              "      <th>0</th>\n",
              "      <td>15634602</td>\n",
              "      <td>619</td>\n",
              "      <td>France</td>\n",
              "      <td>Female</td>\n",
              "      <td>42</td>\n",
              "      <td>2</td>\n",
              "      <td>0.00</td>\n",
              "      <td>1</td>\n",
              "      <td>1</td>\n",
              "      <td>1</td>\n",
              "      <td>101348.88</td>\n",
              "      <td>1</td>\n",
              "    </tr>\n",
              "    <tr>\n",
              "      <th>1</th>\n",
              "      <td>15647311</td>\n",
              "      <td>608</td>\n",
              "      <td>Spain</td>\n",
              "      <td>Female</td>\n",
              "      <td>41</td>\n",
              "      <td>1</td>\n",
              "      <td>83807.86</td>\n",
              "      <td>1</td>\n",
              "      <td>0</td>\n",
              "      <td>1</td>\n",
              "      <td>112542.58</td>\n",
              "      <td>0</td>\n",
              "    </tr>\n",
              "    <tr>\n",
              "      <th>2</th>\n",
              "      <td>15619304</td>\n",
              "      <td>502</td>\n",
              "      <td>France</td>\n",
              "      <td>Female</td>\n",
              "      <td>42</td>\n",
              "      <td>8</td>\n",
              "      <td>159660.80</td>\n",
              "      <td>3</td>\n",
              "      <td>1</td>\n",
              "      <td>0</td>\n",
              "      <td>113931.57</td>\n",
              "      <td>1</td>\n",
              "    </tr>\n",
              "    <tr>\n",
              "      <th>3</th>\n",
              "      <td>15701354</td>\n",
              "      <td>699</td>\n",
              "      <td>France</td>\n",
              "      <td>Female</td>\n",
              "      <td>39</td>\n",
              "      <td>1</td>\n",
              "      <td>0.00</td>\n",
              "      <td>2</td>\n",
              "      <td>0</td>\n",
              "      <td>0</td>\n",
              "      <td>93826.63</td>\n",
              "      <td>0</td>\n",
              "    </tr>\n",
              "    <tr>\n",
              "      <th>4</th>\n",
              "      <td>15737888</td>\n",
              "      <td>850</td>\n",
              "      <td>Spain</td>\n",
              "      <td>Female</td>\n",
              "      <td>43</td>\n",
              "      <td>2</td>\n",
              "      <td>125510.82</td>\n",
              "      <td>1</td>\n",
              "      <td>1</td>\n",
              "      <td>1</td>\n",
              "      <td>79084.1</td>\n",
              "      <td>0</td>\n",
              "    </tr>\n",
              "  </tbody>\n",
              "</table>\n",
              "</div>"
            ],
            "text/plain": [
              "   CustomerId  CreditScore Geography  Gender  Age  Tenure    Balance  \\\n",
              "0    15634602          619    France  Female   42       2       0.00   \n",
              "1    15647311          608     Spain  Female   41       1   83807.86   \n",
              "2    15619304          502    France  Female   42       8  159660.80   \n",
              "3    15701354          699    France  Female   39       1       0.00   \n",
              "4    15737888          850     Spain  Female   43       2  125510.82   \n",
              "\n",
              "   NumOfProducts  HasCrCard  IsActiveMember EstimatedSalary  Exited  \n",
              "0              1          1               1       101348.88       1  \n",
              "1              1          0               1       112542.58       0  \n",
              "2              3          1               0       113931.57       1  \n",
              "3              2          0               0        93826.63       0  \n",
              "4              1          1               1         79084.1       0  "
            ]
          },
          "execution_count": 166,
          "metadata": {},
          "output_type": "execute_result"
        }
      ],
      "source": [
        "dataset_tymo_numerico.drop(columns=['Surname'], inplace=True)\n",
        "cols_nominal.remove('Surname')\n",
        "dataset_tymo_numerico.head(5)"
      ]
    },
    {
      "cell_type": "markdown",
      "metadata": {
        "id": "UTj9sKJF2yK_"
      },
      "source": [
        "\n",
        "Convenientemente, Pandas puede transformar cualquier variable de tipo nominal en una variable categórica por nosotros. Sin embargo, este proceso no está excento de errores y debe ser monitoreado de cerca. Para controlar la calidad de los datos, almacenaremos las categorías en una lista con un diccionario que nos permitirá mapear cada uno de los valores."
      ]
    },
    {
      "cell_type": "code",
      "execution_count": 167,
      "metadata": {
        "colab": {
          "base_uri": "https://localhost:8080/"
        },
        "id": "1cihl51wgOFC",
        "outputId": "21acadc1-a69b-4ea1-8534-8963ba0d0456"
      },
      "outputs": [
        {
          "name": "stdout",
          "output_type": "stream",
          "text": [
            "Identificamos 6 variables nominales de forma manual\n",
            "A continuación procedereos a transformarlas a variables numéricas\n",
            "\n",
            "1) CustomerId: {15565796, 15565701, 15565706, 15565806, 15565714, 15565779}\n",
            "2) Geography: {'France', 'Spain', 'Germany'}\n",
            "3) Gender: {'Male', 'Female'}\n",
            "4) HasCrCard: {0, 1}\n",
            "5) IsActiveMember: {0, 1}\n",
            "6) Exited: {0, 1}\n"
          ]
        }
      ],
      "source": [
        "print(f'Identificamos {len(cols_nominal)} variables nominales de forma manual\\n'\n",
        "      'A continuación procedereos a transformarlas a variables numéricas\\n')\n",
        "dict_mappers = dict()\n",
        "counter = 0\n",
        "\n",
        "for col in cols_nominal:\n",
        "    # Create and store our mapper dictionary, and print it for analysis\n",
        "    mapping = dict(enumerate(dataset_tymo_numerico[col].astype('category').cat.categories))\n",
        "    dict_mappers.update({col: {value: key for key, value in mapping.items()}})\n",
        "    counter += 1\n",
        "\n",
        "    # Print the mapper dictionary for max 5 entries of the dictionary\n",
        "    mapper_print = {entrance for i, entrance\n",
        "                    in enumerate(dict_mappers[col]) if i < 6}\n",
        "\n",
        "    print(f'{counter}) {col}: {mapper_print}')"
      ]
    },
    {
      "cell_type": "markdown",
      "metadata": {},
      "source": [
        "Podemos apreciar que nos quedan dos variables nominales en formato de texto: \"Geography\" y \"Gender\". Por lo tanto, vamos a convertirlas en categorías numéricas de forma manual."
      ]
    },
    {
      "cell_type": "code",
      "execution_count": 168,
      "metadata": {
        "colab": {
          "base_uri": "https://localhost:8080/"
        },
        "id": "L4ftP5lzgOFD",
        "outputId": "deaf4e30-d984-4a0b-e03f-c8789140076e"
      },
      "outputs": [
        {
          "data": {
            "text/html": [
              "<div>\n",
              "<style scoped>\n",
              "    .dataframe tbody tr th:only-of-type {\n",
              "        vertical-align: middle;\n",
              "    }\n",
              "\n",
              "    .dataframe tbody tr th {\n",
              "        vertical-align: top;\n",
              "    }\n",
              "\n",
              "    .dataframe thead th {\n",
              "        text-align: right;\n",
              "    }\n",
              "</style>\n",
              "<table border=\"1\" class=\"dataframe\">\n",
              "  <thead>\n",
              "    <tr style=\"text-align: right;\">\n",
              "      <th></th>\n",
              "      <th>CustomerId</th>\n",
              "      <th>CreditScore</th>\n",
              "      <th>Geography</th>\n",
              "      <th>Gender</th>\n",
              "      <th>Age</th>\n",
              "      <th>Tenure</th>\n",
              "      <th>Balance</th>\n",
              "      <th>NumOfProducts</th>\n",
              "      <th>HasCrCard</th>\n",
              "      <th>IsActiveMember</th>\n",
              "      <th>EstimatedSalary</th>\n",
              "      <th>Exited</th>\n",
              "    </tr>\n",
              "  </thead>\n",
              "  <tbody>\n",
              "    <tr>\n",
              "      <th>0</th>\n",
              "      <td>15634602</td>\n",
              "      <td>619</td>\n",
              "      <td>0</td>\n",
              "      <td>Female</td>\n",
              "      <td>42</td>\n",
              "      <td>2</td>\n",
              "      <td>0.00</td>\n",
              "      <td>1</td>\n",
              "      <td>1</td>\n",
              "      <td>1</td>\n",
              "      <td>101348.88</td>\n",
              "      <td>1</td>\n",
              "    </tr>\n",
              "    <tr>\n",
              "      <th>1</th>\n",
              "      <td>15647311</td>\n",
              "      <td>608</td>\n",
              "      <td>2</td>\n",
              "      <td>Female</td>\n",
              "      <td>41</td>\n",
              "      <td>1</td>\n",
              "      <td>83807.86</td>\n",
              "      <td>1</td>\n",
              "      <td>0</td>\n",
              "      <td>1</td>\n",
              "      <td>112542.58</td>\n",
              "      <td>0</td>\n",
              "    </tr>\n",
              "    <tr>\n",
              "      <th>2</th>\n",
              "      <td>15619304</td>\n",
              "      <td>502</td>\n",
              "      <td>0</td>\n",
              "      <td>Female</td>\n",
              "      <td>42</td>\n",
              "      <td>8</td>\n",
              "      <td>159660.80</td>\n",
              "      <td>3</td>\n",
              "      <td>1</td>\n",
              "      <td>0</td>\n",
              "      <td>113931.57</td>\n",
              "      <td>1</td>\n",
              "    </tr>\n",
              "    <tr>\n",
              "      <th>3</th>\n",
              "      <td>15701354</td>\n",
              "      <td>699</td>\n",
              "      <td>0</td>\n",
              "      <td>Female</td>\n",
              "      <td>39</td>\n",
              "      <td>1</td>\n",
              "      <td>0.00</td>\n",
              "      <td>2</td>\n",
              "      <td>0</td>\n",
              "      <td>0</td>\n",
              "      <td>93826.63</td>\n",
              "      <td>0</td>\n",
              "    </tr>\n",
              "    <tr>\n",
              "      <th>4</th>\n",
              "      <td>15737888</td>\n",
              "      <td>850</td>\n",
              "      <td>2</td>\n",
              "      <td>Female</td>\n",
              "      <td>43</td>\n",
              "      <td>2</td>\n",
              "      <td>125510.82</td>\n",
              "      <td>1</td>\n",
              "      <td>1</td>\n",
              "      <td>1</td>\n",
              "      <td>79084.1</td>\n",
              "      <td>0</td>\n",
              "    </tr>\n",
              "  </tbody>\n",
              "</table>\n",
              "</div>"
            ],
            "text/plain": [
              "   CustomerId  CreditScore  Geography  Gender  Age  Tenure    Balance  \\\n",
              "0    15634602          619          0  Female   42       2       0.00   \n",
              "1    15647311          608          2  Female   41       1   83807.86   \n",
              "2    15619304          502          0  Female   42       8  159660.80   \n",
              "3    15701354          699          0  Female   39       1       0.00   \n",
              "4    15737888          850          2  Female   43       2  125510.82   \n",
              "\n",
              "   NumOfProducts  HasCrCard  IsActiveMember EstimatedSalary  Exited  \n",
              "0              1          1               1       101348.88       1  \n",
              "1              1          0               1       112542.58       0  \n",
              "2              3          1               0       113931.57       1  \n",
              "3              2          0               0        93826.63       0  \n",
              "4              1          1               1         79084.1       0  "
            ]
          },
          "execution_count": 168,
          "metadata": {},
          "output_type": "execute_result"
        }
      ],
      "source": [
        "geography_mapping = { country: key for key, country in enumerate(dataset_tymo_numerico['Geography'].astype('category').cat.categories)}\n",
        "dataset_tymo_numerico['Geography'] = dataset_tymo_numerico['Geography'].map(geography_mapping)\n",
        "dataset_tymo_numerico.head(5)"
      ]
    },
    {
      "cell_type": "code",
      "execution_count": 169,
      "metadata": {},
      "outputs": [
        {
          "data": {
            "text/html": [
              "<div>\n",
              "<style scoped>\n",
              "    .dataframe tbody tr th:only-of-type {\n",
              "        vertical-align: middle;\n",
              "    }\n",
              "\n",
              "    .dataframe tbody tr th {\n",
              "        vertical-align: top;\n",
              "    }\n",
              "\n",
              "    .dataframe thead th {\n",
              "        text-align: right;\n",
              "    }\n",
              "</style>\n",
              "<table border=\"1\" class=\"dataframe\">\n",
              "  <thead>\n",
              "    <tr style=\"text-align: right;\">\n",
              "      <th></th>\n",
              "      <th>CustomerId</th>\n",
              "      <th>CreditScore</th>\n",
              "      <th>Geography</th>\n",
              "      <th>Gender</th>\n",
              "      <th>Age</th>\n",
              "      <th>Tenure</th>\n",
              "      <th>Balance</th>\n",
              "      <th>NumOfProducts</th>\n",
              "      <th>HasCrCard</th>\n",
              "      <th>IsActiveMember</th>\n",
              "      <th>EstimatedSalary</th>\n",
              "      <th>Exited</th>\n",
              "    </tr>\n",
              "  </thead>\n",
              "  <tbody>\n",
              "    <tr>\n",
              "      <th>0</th>\n",
              "      <td>15634602</td>\n",
              "      <td>619</td>\n",
              "      <td>0</td>\n",
              "      <td>0</td>\n",
              "      <td>42</td>\n",
              "      <td>2</td>\n",
              "      <td>0.00</td>\n",
              "      <td>1</td>\n",
              "      <td>1</td>\n",
              "      <td>1</td>\n",
              "      <td>101348.88</td>\n",
              "      <td>1</td>\n",
              "    </tr>\n",
              "    <tr>\n",
              "      <th>1</th>\n",
              "      <td>15647311</td>\n",
              "      <td>608</td>\n",
              "      <td>2</td>\n",
              "      <td>0</td>\n",
              "      <td>41</td>\n",
              "      <td>1</td>\n",
              "      <td>83807.86</td>\n",
              "      <td>1</td>\n",
              "      <td>0</td>\n",
              "      <td>1</td>\n",
              "      <td>112542.58</td>\n",
              "      <td>0</td>\n",
              "    </tr>\n",
              "    <tr>\n",
              "      <th>2</th>\n",
              "      <td>15619304</td>\n",
              "      <td>502</td>\n",
              "      <td>0</td>\n",
              "      <td>0</td>\n",
              "      <td>42</td>\n",
              "      <td>8</td>\n",
              "      <td>159660.80</td>\n",
              "      <td>3</td>\n",
              "      <td>1</td>\n",
              "      <td>0</td>\n",
              "      <td>113931.57</td>\n",
              "      <td>1</td>\n",
              "    </tr>\n",
              "    <tr>\n",
              "      <th>3</th>\n",
              "      <td>15701354</td>\n",
              "      <td>699</td>\n",
              "      <td>0</td>\n",
              "      <td>0</td>\n",
              "      <td>39</td>\n",
              "      <td>1</td>\n",
              "      <td>0.00</td>\n",
              "      <td>2</td>\n",
              "      <td>0</td>\n",
              "      <td>0</td>\n",
              "      <td>93826.63</td>\n",
              "      <td>0</td>\n",
              "    </tr>\n",
              "    <tr>\n",
              "      <th>4</th>\n",
              "      <td>15737888</td>\n",
              "      <td>850</td>\n",
              "      <td>2</td>\n",
              "      <td>0</td>\n",
              "      <td>43</td>\n",
              "      <td>2</td>\n",
              "      <td>125510.82</td>\n",
              "      <td>1</td>\n",
              "      <td>1</td>\n",
              "      <td>1</td>\n",
              "      <td>79084.1</td>\n",
              "      <td>0</td>\n",
              "    </tr>\n",
              "  </tbody>\n",
              "</table>\n",
              "</div>"
            ],
            "text/plain": [
              "   CustomerId  CreditScore  Geography  Gender  Age  Tenure    Balance  \\\n",
              "0    15634602          619          0       0   42       2       0.00   \n",
              "1    15647311          608          2       0   41       1   83807.86   \n",
              "2    15619304          502          0       0   42       8  159660.80   \n",
              "3    15701354          699          0       0   39       1       0.00   \n",
              "4    15737888          850          2       0   43       2  125510.82   \n",
              "\n",
              "   NumOfProducts  HasCrCard  IsActiveMember EstimatedSalary  Exited  \n",
              "0              1          1               1       101348.88       1  \n",
              "1              1          0               1       112542.58       0  \n",
              "2              3          1               0       113931.57       1  \n",
              "3              2          0               0        93826.63       0  \n",
              "4              1          1               1         79084.1       0  "
            ]
          },
          "execution_count": 169,
          "metadata": {},
          "output_type": "execute_result"
        }
      ],
      "source": [
        "gender_mapping = { gender: key for key, gender in enumerate(dataset_tymo_numerico['Gender'].astype('category').cat.categories)}\n",
        "dataset_tymo_numerico['Gender'] = dataset_tymo_numerico['Gender'].map(gender_mapping)\n",
        "dataset_tymo_numerico.head(5)"
      ]
    },
    {
      "cell_type": "markdown",
      "metadata": {
        "id": "6zujhvHbgOFD"
      },
      "source": [
        "Ahora podemos reemplazar los valores de cada columna por su equivalente numérico pasando por el mapper adecuado."
      ]
    },
    {
      "cell_type": "code",
      "execution_count": 170,
      "metadata": {
        "colab": {
          "base_uri": "https://localhost:8080/",
          "height": 255
        },
        "id": "7jrJxcW5gOFD",
        "outputId": "f617c06d-e1c2-4817-9ffa-15f442885a26"
      },
      "outputs": [],
      "source": [
        "for col, mapper in dict_mappers.items():\n",
        "    dataset_tymo_numerico[col] = dataset_tymo[col].map(mapper)"
      ]
    },
    {
      "cell_type": "markdown",
      "metadata": {},
      "source": [
        "Antes de seguir con las siguientes variables, vamos a verificar que el tipo de variables sea numérica."
      ]
    },
    {
      "cell_type": "code",
      "execution_count": 171,
      "metadata": {},
      "outputs": [
        {
          "name": "stdout",
          "output_type": "stream",
          "text": [
            "CustomerId           int64\n",
            "CreditScore          int64\n",
            "Geography            int64\n",
            "Gender               int64\n",
            "Age                  int64\n",
            "Tenure               int64\n",
            "Balance            float64\n",
            "NumOfProducts        int64\n",
            "HasCrCard            int64\n",
            "IsActiveMember       int64\n",
            "EstimatedSalary     object\n",
            "Exited               int64\n",
            "dtype: object\n"
          ]
        }
      ],
      "source": [
        "dataset_tymo_corregido = dataset_tymo_numerico.copy(deep=True)\n",
        "print(dataset_tymo_corregido.dtypes)"
      ]
    },
    {
      "cell_type": "markdown",
      "metadata": {},
      "source": [
        "Observamos que la columna \"EstimatedSalary\" es de tipo object, por lo que vamos a transformarla a tipo float. \n",
        "Primero vamos a verificar si hay valores de tipo datetime en la columna, y sus índices."
      ]
    },
    {
      "cell_type": "code",
      "execution_count": 172,
      "metadata": {},
      "outputs": [
        {
          "name": "stdout",
          "output_type": "stream",
          "text": [
            "126     8636-05-01 00:00:00\n",
            "172     5472-07-01 00:00:00\n",
            "200     5978-02-01 00:00:00\n",
            "551     2079-02-01 00:00:00\n",
            "627     7698-06-01 00:00:00\n",
            "               ...         \n",
            "9568    9984-04-01 00:00:00\n",
            "9679    3453-04-01 00:00:00\n",
            "9745    8037-03-01 00:00:00\n",
            "9754    3258-06-01 00:00:00\n",
            "9811    2850-01-01 00:00:00\n",
            "Name: EstimatedSalary, Length: 80, dtype: object\n"
          ]
        }
      ],
      "source": [
        "series_tymo = dataset_tymo_corregido['EstimatedSalary']\n",
        "\n",
        "# Check the data type of each value in the Series\n",
        "type_series = series_tymo.apply(type)\n",
        "\n",
        "# Filter the Series to keep only datetime values\n",
        "datetime_values = series_tymo[type_series == datetime.datetime]\n",
        "\n",
        "# Print the problematic values and their indices\n",
        "print(datetime_values)"
      ]
    },
    {
      "cell_type": "markdown",
      "metadata": {},
      "source": [
        "Notamos que contamos con 85 filas donde el valor de EstimatedSalary está contaminado con valores de formato datetime.datetime. Vamos a limpiar estos valores más adelante."
      ]
    },
    {
      "cell_type": "markdown",
      "metadata": {
        "id": "O1pXSgrdMIgy"
      },
      "source": [
        "<h3>3.2. Variables Ordinales</h3>\n",
        "\n",
        "No identificamos variables ordinales para este ejercicio, aunque se podría argumentar que el tipo de contrato se podría ordenar de menor a mayor duración, cuestión que en nuestro caso pasó por defecto. En tal caso, la única diferencia es que tendríamos que aplicar los mappers en forma manual, forzando así nuestro criterio subjetivo sobre los datos."
      ]
    },
    {
      "cell_type": "markdown",
      "metadata": {
        "id": "UHTXfxBNN6Qs"
      },
      "source": [
        "<h3>3.3. Variables de Intervalo</h3>\n",
        "\n",
        "Comúnmente las encuestas contendrán preguntas de tipo Likert con alternativas que buscan evaluar la opinión o satisfacción de los clientes respecto a ciertos tópicos. En este caso, no se dispone de este tipo de preguntas, cuestión que de cara a determinar la fuga de clientes podría ser perjudicial, pues contar con variables psicográficas o conductuales de los clientes no es sólo importante para la segmentación, sino también para este tipo de ejercicios."
      ]
    },
    {
      "cell_type": "markdown",
      "metadata": {
        "id": "QfpgZJXqf8Lf"
      },
      "source": [
        "<h3>3.4. Variables de Escala</h3>\n",
        "\n",
        "También de libro, las variables de escala suelen ser la edad y montos finitos como en este caso el costo de los planes. Convenientemente, como todas estas variables ya son numéricas y contínuas, no debiéramos realizar ningún tipo de transformación. Sin embargo, como observaremos a continuación, las columnas asociadas son de tipo \"object\", cuestión que hace referencia a que los valores se almacenaron como texto y no como número."
      ]
    },
    {
      "cell_type": "code",
      "execution_count": 173,
      "metadata": {
        "colab": {
          "base_uri": "https://localhost:8080/"
        },
        "id": "Mbt-lqWHgmGQ",
        "outputId": "aa155f93-c687-4a72-aa94-b9975a49fa51"
      },
      "outputs": [
        {
          "name": "stdout",
          "output_type": "stream",
          "text": [
            "EstimatedSalary: float64\n"
          ]
        }
      ],
      "source": [
        "mapper_escala = {'EstimatedSalary': float}\n",
        "\n",
        "for col, dtype in mapper_escala.items():\n",
        "    if dtype == float:\n",
        "        dataset_tymo_numerico[col] = dataset_tymo_numerico[col].str.replace(',', '.').astype(dtype)\n",
        "    else:\n",
        "        dataset_tymo_numerico[col] = dataset_tymo_numerico[col].astype(dtype)\n",
        "\n",
        "    print(f\"{col}: {dataset_tymo_numerico[col].dtype}\")"
      ]
    },
    {
      "cell_type": "code",
      "execution_count": 174,
      "metadata": {},
      "outputs": [
        {
          "data": {
            "text/plain": [
              "CustomerId         4209.0\n",
              "CreditScore         549.0\n",
              "Geography             0.0\n",
              "Gender                0.0\n",
              "Age                  52.0\n",
              "Tenure                1.0\n",
              "Balance               0.0\n",
              "NumOfProducts         1.0\n",
              "HasCrCard             0.0\n",
              "IsActiveMember        1.0\n",
              "EstimatedSalary       NaN\n",
              "Exited                1.0\n",
              "Name: 126, dtype: float64"
            ]
          },
          "execution_count": 174,
          "metadata": {},
          "output_type": "execute_result"
        }
      ],
      "source": [
        "dataset_tymo_numerico.iloc[126]"
      ]
    },
    {
      "cell_type": "markdown",
      "metadata": {},
      "source": [
        "Verificamos qué ocurre con los valores que anteriormente presentaban un formato de fecha en la columna \"EstimatedSalary\".\n",
        "Podemos apreciar que ahora los valores de la columna \"EstimatedSalary\" son de tipo float. Sin embargo, los datos que antes tenían formato datetime, ahora son valores nulos. Esto lo vamos a seguir preparando para el análisis en los siguientes pasos."
      ]
    },
    {
      "cell_type": "markdown",
      "metadata": {
        "id": "GcAWpQJ7VMCg"
      },
      "source": [
        "<h2>4. Ejecución de las Regresiones Logísticas</h2>\n",
        "\n",
        "La regresión logística es un modelo estadístico vital para predecir la probabilidad de fuga de clientes, un fenómeno también conocido como churn, que afecta significativamente los ingresos y la rentabilidad de las empresas. Este modelo predice una variable categórica binaria a partir de variables independientes que describen características y comportamientos de los clientes, permitiendo calcular la probabilidad de fuga. Al aplicar regresiones logísticas, es posible identificar las variables con mayor impacto en la fuga, lo que ayuda a las empresas a comprender y mitigar los factores que la propician. Además, este modelo facilita la generación de una puntuación de probabilidad de fuga por cliente, optimizando las estrategias de retención al priorizar y personalizar las intervenciones. En definitiva, la regresión logística ofrece una herramienta esencial para la toma de decisiones informadas y la implementación de acciones efectivas para retener a los clientes en riesgo.\n",
        "\n",
        "<h3>4.1. Prueba inicial y Correcciones</h3>\n",
        "\n",
        "La idea de aquí en adelante es ir reduciendo las variables significativas para el análisis, mediante un proceso de ensayo y error en el que se van eliminando aquellas variables que presenten p-values no significativos. Sin embargo, siempre es bueno probar inicialmente a ver si nuestras columnas se acomodan al modelo estadístico."
      ]
    },
    {
      "cell_type": "code",
      "execution_count": 175,
      "metadata": {
        "colab": {
          "base_uri": "https://localhost:8080/"
        },
        "id": "hdAgnXxbVMjM",
        "outputId": "0edf6cb7-e80b-44c1-9bd2-4722a61f1a54"
      },
      "outputs": [
        {
          "name": "stdout",
          "output_type": "stream",
          "text": [
            "exog contains inf or nans\n"
          ]
        }
      ],
      "source": [
        "dataset_tymo_regression = dataset_tymo_numerico.copy(deep=True)\n",
        "\n",
        "try:\n",
        "    # Run a logistic regression model with all variables and the churn as the target\n",
        "    x = dataset_tymo_regression.drop(columns=['CustomerId', 'Exited'])\n",
        "    y = dataset_tymo_regression['Exited']\n",
        "\n",
        "    x = sm.add_constant(x)\n",
        "    model = sm.Logit(y, x)\n",
        "    result = model.fit()\n",
        "\n",
        "    print(result.summary())\n",
        "\n",
        "except Exception as e:\n",
        "    print(e)"
      ]
    },
    {
      "cell_type": "markdown",
      "metadata": {
        "id": "6QXy5eIngOFE"
      },
      "source": [
        "En este caso, observamos que las variables exógenas presentan valores infinitos o nulos. Revisaremos la estadísticas descriptiva de la tabla para revisar los máximos y descartar al primer sospechoso de que no podamos correr el modelo."
      ]
    },
    {
      "cell_type": "code",
      "execution_count": 176,
      "metadata": {
        "colab": {
          "base_uri": "https://localhost:8080/",
          "height": 349
        },
        "id": "33dNmPKJgOFE",
        "outputId": "baa09d95-a320-4a31-c1c0-050a89766c80"
      },
      "outputs": [
        {
          "data": {
            "text/html": [
              "<div>\n",
              "<style scoped>\n",
              "    .dataframe tbody tr th:only-of-type {\n",
              "        vertical-align: middle;\n",
              "    }\n",
              "\n",
              "    .dataframe tbody tr th {\n",
              "        vertical-align: top;\n",
              "    }\n",
              "\n",
              "    .dataframe thead th {\n",
              "        text-align: right;\n",
              "    }\n",
              "</style>\n",
              "<table border=\"1\" class=\"dataframe\">\n",
              "  <thead>\n",
              "    <tr style=\"text-align: right;\">\n",
              "      <th></th>\n",
              "      <th>CustomerId</th>\n",
              "      <th>CreditScore</th>\n",
              "      <th>Geography</th>\n",
              "      <th>Gender</th>\n",
              "      <th>Age</th>\n",
              "      <th>Tenure</th>\n",
              "      <th>Balance</th>\n",
              "      <th>NumOfProducts</th>\n",
              "      <th>HasCrCard</th>\n",
              "      <th>IsActiveMember</th>\n",
              "      <th>EstimatedSalary</th>\n",
              "      <th>Exited</th>\n",
              "    </tr>\n",
              "  </thead>\n",
              "  <tbody>\n",
              "    <tr>\n",
              "      <th>count</th>\n",
              "      <td>10000.00000</td>\n",
              "      <td>10000.000000</td>\n",
              "      <td>10000.000000</td>\n",
              "      <td>10000.000000</td>\n",
              "      <td>10000.000000</td>\n",
              "      <td>10000.000000</td>\n",
              "      <td>10000.000000</td>\n",
              "      <td>10000.000000</td>\n",
              "      <td>10000.00000</td>\n",
              "      <td>10000.000000</td>\n",
              "      <td>9801.000000</td>\n",
              "      <td>10000.000000</td>\n",
              "    </tr>\n",
              "    <tr>\n",
              "      <th>mean</th>\n",
              "      <td>4999.50000</td>\n",
              "      <td>650.528800</td>\n",
              "      <td>0.746300</td>\n",
              "      <td>0.545700</td>\n",
              "      <td>38.921800</td>\n",
              "      <td>5.012800</td>\n",
              "      <td>76485.889288</td>\n",
              "      <td>1.530200</td>\n",
              "      <td>0.70550</td>\n",
              "      <td>0.515100</td>\n",
              "      <td>101065.106289</td>\n",
              "      <td>0.203700</td>\n",
              "    </tr>\n",
              "    <tr>\n",
              "      <th>std</th>\n",
              "      <td>2886.89568</td>\n",
              "      <td>96.653299</td>\n",
              "      <td>0.827529</td>\n",
              "      <td>0.497932</td>\n",
              "      <td>10.487806</td>\n",
              "      <td>2.892174</td>\n",
              "      <td>62397.405202</td>\n",
              "      <td>0.581654</td>\n",
              "      <td>0.45584</td>\n",
              "      <td>0.499797</td>\n",
              "      <td>57100.263571</td>\n",
              "      <td>0.402769</td>\n",
              "    </tr>\n",
              "    <tr>\n",
              "      <th>min</th>\n",
              "      <td>0.00000</td>\n",
              "      <td>350.000000</td>\n",
              "      <td>0.000000</td>\n",
              "      <td>0.000000</td>\n",
              "      <td>18.000000</td>\n",
              "      <td>0.000000</td>\n",
              "      <td>0.000000</td>\n",
              "      <td>1.000000</td>\n",
              "      <td>0.00000</td>\n",
              "      <td>0.000000</td>\n",
              "      <td>11.580000</td>\n",
              "      <td>0.000000</td>\n",
              "    </tr>\n",
              "    <tr>\n",
              "      <th>25%</th>\n",
              "      <td>2499.75000</td>\n",
              "      <td>584.000000</td>\n",
              "      <td>0.000000</td>\n",
              "      <td>0.000000</td>\n",
              "      <td>32.000000</td>\n",
              "      <td>3.000000</td>\n",
              "      <td>0.000000</td>\n",
              "      <td>1.000000</td>\n",
              "      <td>0.00000</td>\n",
              "      <td>0.000000</td>\n",
              "      <td>52449.620000</td>\n",
              "      <td>0.000000</td>\n",
              "    </tr>\n",
              "    <tr>\n",
              "      <th>50%</th>\n",
              "      <td>4999.50000</td>\n",
              "      <td>652.000000</td>\n",
              "      <td>0.000000</td>\n",
              "      <td>1.000000</td>\n",
              "      <td>37.000000</td>\n",
              "      <td>5.000000</td>\n",
              "      <td>97198.540000</td>\n",
              "      <td>1.000000</td>\n",
              "      <td>1.00000</td>\n",
              "      <td>1.000000</td>\n",
              "      <td>101139.300000</td>\n",
              "      <td>0.000000</td>\n",
              "    </tr>\n",
              "    <tr>\n",
              "      <th>75%</th>\n",
              "      <td>7499.25000</td>\n",
              "      <td>718.000000</td>\n",
              "      <td>1.000000</td>\n",
              "      <td>1.000000</td>\n",
              "      <td>44.000000</td>\n",
              "      <td>7.000000</td>\n",
              "      <td>127644.240000</td>\n",
              "      <td>2.000000</td>\n",
              "      <td>1.00000</td>\n",
              "      <td>1.000000</td>\n",
              "      <td>149705.250000</td>\n",
              "      <td>0.000000</td>\n",
              "    </tr>\n",
              "    <tr>\n",
              "      <th>max</th>\n",
              "      <td>9999.00000</td>\n",
              "      <td>850.000000</td>\n",
              "      <td>2.000000</td>\n",
              "      <td>1.000000</td>\n",
              "      <td>92.000000</td>\n",
              "      <td>10.000000</td>\n",
              "      <td>250898.090000</td>\n",
              "      <td>4.000000</td>\n",
              "      <td>1.00000</td>\n",
              "      <td>1.000000</td>\n",
              "      <td>199992.480000</td>\n",
              "      <td>1.000000</td>\n",
              "    </tr>\n",
              "  </tbody>\n",
              "</table>\n",
              "</div>"
            ],
            "text/plain": [
              "        CustomerId   CreditScore     Geography        Gender           Age  \\\n",
              "count  10000.00000  10000.000000  10000.000000  10000.000000  10000.000000   \n",
              "mean    4999.50000    650.528800      0.746300      0.545700     38.921800   \n",
              "std     2886.89568     96.653299      0.827529      0.497932     10.487806   \n",
              "min        0.00000    350.000000      0.000000      0.000000     18.000000   \n",
              "25%     2499.75000    584.000000      0.000000      0.000000     32.000000   \n",
              "50%     4999.50000    652.000000      0.000000      1.000000     37.000000   \n",
              "75%     7499.25000    718.000000      1.000000      1.000000     44.000000   \n",
              "max     9999.00000    850.000000      2.000000      1.000000     92.000000   \n",
              "\n",
              "             Tenure        Balance  NumOfProducts    HasCrCard  \\\n",
              "count  10000.000000   10000.000000   10000.000000  10000.00000   \n",
              "mean       5.012800   76485.889288       1.530200      0.70550   \n",
              "std        2.892174   62397.405202       0.581654      0.45584   \n",
              "min        0.000000       0.000000       1.000000      0.00000   \n",
              "25%        3.000000       0.000000       1.000000      0.00000   \n",
              "50%        5.000000   97198.540000       1.000000      1.00000   \n",
              "75%        7.000000  127644.240000       2.000000      1.00000   \n",
              "max       10.000000  250898.090000       4.000000      1.00000   \n",
              "\n",
              "       IsActiveMember  EstimatedSalary        Exited  \n",
              "count    10000.000000      9801.000000  10000.000000  \n",
              "mean         0.515100    101065.106289      0.203700  \n",
              "std          0.499797     57100.263571      0.402769  \n",
              "min          0.000000        11.580000      0.000000  \n",
              "25%          0.000000     52449.620000      0.000000  \n",
              "50%          1.000000    101139.300000      0.000000  \n",
              "75%          1.000000    149705.250000      0.000000  \n",
              "max          1.000000    199992.480000      1.000000  "
            ]
          },
          "execution_count": 176,
          "metadata": {},
          "output_type": "execute_result"
        }
      ],
      "source": [
        "dataset_tymo_regression.describe()"
      ]
    },
    {
      "cell_type": "markdown",
      "metadata": {
        "id": "Q-PN1TCUgOFE"
      },
      "source": [
        "Dado que no hay valores infinitos, seguramente tengamos valores nulos en alguna columna. Este análisis es un poco más complejo, pero nada que no se pueda resolver consultando a Chat GPT si no supiéramos cómo hacerlo. A continuación, revisamos cada columna y buscamos la presencia de valores nulos."
      ]
    },
    {
      "cell_type": "code",
      "execution_count": 177,
      "metadata": {
        "colab": {
          "base_uri": "https://localhost:8080/",
          "height": 411
        },
        "id": "LyqT2YXrgOFE",
        "outputId": "a4363b44-1b25-43cb-a467-66a7c83fd917"
      },
      "outputs": [
        {
          "name": "stdout",
          "output_type": "stream",
          "text": [
            "EstimatedSalary: 199\n"
          ]
        }
      ],
      "source": [
        "for col in dataset_tymo_regression.columns:\n",
        "    if dataset_tymo_regression[col].isna().sum() > 0:\n",
        "        print(f'{col}: {dataset_tymo_regression[col].isna().sum()}')\n",
        "\n"
      ]
    },
    {
      "cell_type": "code",
      "execution_count": 178,
      "metadata": {},
      "outputs": [
        {
          "data": {
            "text/html": [
              "<div>\n",
              "<style scoped>\n",
              "    .dataframe tbody tr th:only-of-type {\n",
              "        vertical-align: middle;\n",
              "    }\n",
              "\n",
              "    .dataframe tbody tr th {\n",
              "        vertical-align: top;\n",
              "    }\n",
              "\n",
              "    .dataframe thead th {\n",
              "        text-align: right;\n",
              "    }\n",
              "</style>\n",
              "<table border=\"1\" class=\"dataframe\">\n",
              "  <thead>\n",
              "    <tr style=\"text-align: right;\">\n",
              "      <th></th>\n",
              "      <th>EstimatedSalary</th>\n",
              "      <th>Tenure</th>\n",
              "      <th>Balance</th>\n",
              "      <th>NumOfProducts</th>\n",
              "    </tr>\n",
              "  </thead>\n",
              "  <tbody>\n",
              "    <tr>\n",
              "      <th>69</th>\n",
              "      <td>NaN</td>\n",
              "      <td>8</td>\n",
              "      <td>98373.26</td>\n",
              "      <td>1</td>\n",
              "    </tr>\n",
              "    <tr>\n",
              "      <th>75</th>\n",
              "      <td>NaN</td>\n",
              "      <td>1</td>\n",
              "      <td>178718.19</td>\n",
              "      <td>2</td>\n",
              "    </tr>\n",
              "    <tr>\n",
              "      <th>126</th>\n",
              "      <td>NaN</td>\n",
              "      <td>1</td>\n",
              "      <td>0.00</td>\n",
              "      <td>1</td>\n",
              "    </tr>\n",
              "    <tr>\n",
              "      <th>172</th>\n",
              "      <td>NaN</td>\n",
              "      <td>10</td>\n",
              "      <td>129608.57</td>\n",
              "      <td>1</td>\n",
              "    </tr>\n",
              "    <tr>\n",
              "      <th>200</th>\n",
              "      <td>NaN</td>\n",
              "      <td>2</td>\n",
              "      <td>141040.01</td>\n",
              "      <td>1</td>\n",
              "    </tr>\n",
              "    <tr>\n",
              "      <th>...</th>\n",
              "      <td>...</td>\n",
              "      <td>...</td>\n",
              "      <td>...</td>\n",
              "      <td>...</td>\n",
              "    </tr>\n",
              "    <tr>\n",
              "      <th>9684</th>\n",
              "      <td>NaN</td>\n",
              "      <td>3</td>\n",
              "      <td>89276.48</td>\n",
              "      <td>1</td>\n",
              "    </tr>\n",
              "    <tr>\n",
              "      <th>9745</th>\n",
              "      <td>NaN</td>\n",
              "      <td>4</td>\n",
              "      <td>0.00</td>\n",
              "      <td>2</td>\n",
              "    </tr>\n",
              "    <tr>\n",
              "      <th>9754</th>\n",
              "      <td>NaN</td>\n",
              "      <td>1</td>\n",
              "      <td>121629.22</td>\n",
              "      <td>1</td>\n",
              "    </tr>\n",
              "    <tr>\n",
              "      <th>9811</th>\n",
              "      <td>NaN</td>\n",
              "      <td>1</td>\n",
              "      <td>128927.93</td>\n",
              "      <td>1</td>\n",
              "    </tr>\n",
              "    <tr>\n",
              "      <th>9985</th>\n",
              "      <td>NaN</td>\n",
              "      <td>6</td>\n",
              "      <td>123841.49</td>\n",
              "      <td>2</td>\n",
              "    </tr>\n",
              "  </tbody>\n",
              "</table>\n",
              "<p>199 rows × 4 columns</p>\n",
              "</div>"
            ],
            "text/plain": [
              "      EstimatedSalary  Tenure    Balance  NumOfProducts\n",
              "69                NaN       8   98373.26              1\n",
              "75                NaN       1  178718.19              2\n",
              "126               NaN       1       0.00              1\n",
              "172               NaN      10  129608.57              1\n",
              "200               NaN       2  141040.01              1\n",
              "...               ...     ...        ...            ...\n",
              "9684              NaN       3   89276.48              1\n",
              "9745              NaN       4       0.00              2\n",
              "9754              NaN       1  121629.22              1\n",
              "9811              NaN       1  128927.93              1\n",
              "9985              NaN       6  123841.49              2\n",
              "\n",
              "[199 rows x 4 columns]"
            ]
          },
          "metadata": {},
          "output_type": "display_data"
        }
      ],
      "source": [
        "display(dataset_tymo_regression[dataset_tymo_regression['EstimatedSalary'].isna()][['EstimatedSalary', 'Tenure', 'Balance', 'NumOfProducts']])"
      ]
    },
    {
      "cell_type": "markdown",
      "metadata": {
        "id": "a68bjjaegOFE"
      },
      "source": [
        "Al parecer, la presencia de valores NaN (anteriormente valores de tipo datetime) en la columna \"EstimatedSalary\" no tiene alguna correlación con las demás variables del dataset. Como no hay una forma clara de extraer implicancias en los datos, decidimos eliminar las filas con valores nulos."
      ]
    },
    {
      "cell_type": "code",
      "execution_count": 179,
      "metadata": {
        "id": "CSq0-9PKgOFE"
      },
      "outputs": [],
      "source": [
        "dataset_tymo_regression_dropna = dataset_tymo_regression.dropna()"
      ]
    },
    {
      "cell_type": "code",
      "execution_count": 180,
      "metadata": {},
      "outputs": [
        {
          "data": {
            "text/html": [
              "<div>\n",
              "<style scoped>\n",
              "    .dataframe tbody tr th:only-of-type {\n",
              "        vertical-align: middle;\n",
              "    }\n",
              "\n",
              "    .dataframe tbody tr th {\n",
              "        vertical-align: top;\n",
              "    }\n",
              "\n",
              "    .dataframe thead th {\n",
              "        text-align: right;\n",
              "    }\n",
              "</style>\n",
              "<table border=\"1\" class=\"dataframe\">\n",
              "  <thead>\n",
              "    <tr style=\"text-align: right;\">\n",
              "      <th></th>\n",
              "      <th>CustomerId</th>\n",
              "      <th>CreditScore</th>\n",
              "      <th>Geography</th>\n",
              "      <th>Gender</th>\n",
              "      <th>Age</th>\n",
              "      <th>Tenure</th>\n",
              "      <th>Balance</th>\n",
              "      <th>NumOfProducts</th>\n",
              "      <th>HasCrCard</th>\n",
              "      <th>IsActiveMember</th>\n",
              "      <th>EstimatedSalary</th>\n",
              "      <th>Exited</th>\n",
              "    </tr>\n",
              "  </thead>\n",
              "  <tbody>\n",
              "    <tr>\n",
              "      <th>count</th>\n",
              "      <td>9801.000000</td>\n",
              "      <td>9801.000000</td>\n",
              "      <td>9801.000000</td>\n",
              "      <td>9801.000000</td>\n",
              "      <td>9801.000000</td>\n",
              "      <td>9801.000000</td>\n",
              "      <td>9801.000000</td>\n",
              "      <td>9801.000000</td>\n",
              "      <td>9801.000000</td>\n",
              "      <td>9801.000000</td>\n",
              "      <td>9801.000000</td>\n",
              "      <td>9801.000000</td>\n",
              "    </tr>\n",
              "    <tr>\n",
              "      <th>mean</th>\n",
              "      <td>5001.695949</td>\n",
              "      <td>650.622998</td>\n",
              "      <td>0.747577</td>\n",
              "      <td>0.546067</td>\n",
              "      <td>38.944393</td>\n",
              "      <td>5.022141</td>\n",
              "      <td>76605.263232</td>\n",
              "      <td>1.530456</td>\n",
              "      <td>0.707071</td>\n",
              "      <td>0.515356</td>\n",
              "      <td>101065.106289</td>\n",
              "      <td>0.203449</td>\n",
              "    </tr>\n",
              "    <tr>\n",
              "      <th>std</th>\n",
              "      <td>2885.551049</td>\n",
              "      <td>96.507401</td>\n",
              "      <td>0.827925</td>\n",
              "      <td>0.497899</td>\n",
              "      <td>10.494822</td>\n",
              "      <td>2.889322</td>\n",
              "      <td>62425.080026</td>\n",
              "      <td>0.581971</td>\n",
              "      <td>0.455129</td>\n",
              "      <td>0.499790</td>\n",
              "      <td>57100.263571</td>\n",
              "      <td>0.402584</td>\n",
              "    </tr>\n",
              "    <tr>\n",
              "      <th>min</th>\n",
              "      <td>0.000000</td>\n",
              "      <td>350.000000</td>\n",
              "      <td>0.000000</td>\n",
              "      <td>0.000000</td>\n",
              "      <td>18.000000</td>\n",
              "      <td>0.000000</td>\n",
              "      <td>0.000000</td>\n",
              "      <td>1.000000</td>\n",
              "      <td>0.000000</td>\n",
              "      <td>0.000000</td>\n",
              "      <td>11.580000</td>\n",
              "      <td>0.000000</td>\n",
              "    </tr>\n",
              "    <tr>\n",
              "      <th>25%</th>\n",
              "      <td>2505.000000</td>\n",
              "      <td>584.000000</td>\n",
              "      <td>0.000000</td>\n",
              "      <td>0.000000</td>\n",
              "      <td>32.000000</td>\n",
              "      <td>3.000000</td>\n",
              "      <td>0.000000</td>\n",
              "      <td>1.000000</td>\n",
              "      <td>0.000000</td>\n",
              "      <td>0.000000</td>\n",
              "      <td>52449.620000</td>\n",
              "      <td>0.000000</td>\n",
              "    </tr>\n",
              "    <tr>\n",
              "      <th>50%</th>\n",
              "      <td>4997.000000</td>\n",
              "      <td>652.000000</td>\n",
              "      <td>0.000000</td>\n",
              "      <td>1.000000</td>\n",
              "      <td>37.000000</td>\n",
              "      <td>5.000000</td>\n",
              "      <td>97378.540000</td>\n",
              "      <td>1.000000</td>\n",
              "      <td>1.000000</td>\n",
              "      <td>1.000000</td>\n",
              "      <td>101139.300000</td>\n",
              "      <td>0.000000</td>\n",
              "    </tr>\n",
              "    <tr>\n",
              "      <th>75%</th>\n",
              "      <td>7499.000000</td>\n",
              "      <td>718.000000</td>\n",
              "      <td>1.000000</td>\n",
              "      <td>1.000000</td>\n",
              "      <td>44.000000</td>\n",
              "      <td>8.000000</td>\n",
              "      <td>127758.090000</td>\n",
              "      <td>2.000000</td>\n",
              "      <td>1.000000</td>\n",
              "      <td>1.000000</td>\n",
              "      <td>149705.250000</td>\n",
              "      <td>0.000000</td>\n",
              "    </tr>\n",
              "    <tr>\n",
              "      <th>max</th>\n",
              "      <td>9999.000000</td>\n",
              "      <td>850.000000</td>\n",
              "      <td>2.000000</td>\n",
              "      <td>1.000000</td>\n",
              "      <td>92.000000</td>\n",
              "      <td>10.000000</td>\n",
              "      <td>238387.560000</td>\n",
              "      <td>4.000000</td>\n",
              "      <td>1.000000</td>\n",
              "      <td>1.000000</td>\n",
              "      <td>199992.480000</td>\n",
              "      <td>1.000000</td>\n",
              "    </tr>\n",
              "  </tbody>\n",
              "</table>\n",
              "</div>"
            ],
            "text/plain": [
              "        CustomerId  CreditScore    Geography       Gender          Age  \\\n",
              "count  9801.000000  9801.000000  9801.000000  9801.000000  9801.000000   \n",
              "mean   5001.695949   650.622998     0.747577     0.546067    38.944393   \n",
              "std    2885.551049    96.507401     0.827925     0.497899    10.494822   \n",
              "min       0.000000   350.000000     0.000000     0.000000    18.000000   \n",
              "25%    2505.000000   584.000000     0.000000     0.000000    32.000000   \n",
              "50%    4997.000000   652.000000     0.000000     1.000000    37.000000   \n",
              "75%    7499.000000   718.000000     1.000000     1.000000    44.000000   \n",
              "max    9999.000000   850.000000     2.000000     1.000000    92.000000   \n",
              "\n",
              "            Tenure        Balance  NumOfProducts    HasCrCard  IsActiveMember  \\\n",
              "count  9801.000000    9801.000000    9801.000000  9801.000000     9801.000000   \n",
              "mean      5.022141   76605.263232       1.530456     0.707071        0.515356   \n",
              "std       2.889322   62425.080026       0.581971     0.455129        0.499790   \n",
              "min       0.000000       0.000000       1.000000     0.000000        0.000000   \n",
              "25%       3.000000       0.000000       1.000000     0.000000        0.000000   \n",
              "50%       5.000000   97378.540000       1.000000     1.000000        1.000000   \n",
              "75%       8.000000  127758.090000       2.000000     1.000000        1.000000   \n",
              "max      10.000000  238387.560000       4.000000     1.000000        1.000000   \n",
              "\n",
              "       EstimatedSalary       Exited  \n",
              "count      9801.000000  9801.000000  \n",
              "mean     101065.106289     0.203449  \n",
              "std       57100.263571     0.402584  \n",
              "min          11.580000     0.000000  \n",
              "25%       52449.620000     0.000000  \n",
              "50%      101139.300000     0.000000  \n",
              "75%      149705.250000     0.000000  \n",
              "max      199992.480000     1.000000  "
            ]
          },
          "execution_count": 180,
          "metadata": {},
          "output_type": "execute_result"
        }
      ],
      "source": [
        "dataset_tymo_regression_dropna.describe()"
      ]
    },
    {
      "cell_type": "markdown",
      "metadata": {
        "id": "WtvYilR_WV7x"
      },
      "source": [
        "Hint: \"puede\" que en el laboratorio que usted deba resolver no sean ni los valores infinitos ni los valores nulos el problema. \"Quizás\" haya variables fuertemente correlacionadas que \"probablemente\" usted podría identificar corriendo un correlograma. Se \"sugiere\" ese método para botar las variables problemáticas, aunque encontraría genial si usted identifica la verdadera causa del problema.\n",
        "\n",
        "<h3>4.2. Ejecución de la regresión principal</h3>\n",
        "\n",
        "Para las siguientes líneas, por favor asegúrese de instalar matplotlib y jinja2"
      ]
    },
    {
      "cell_type": "code",
      "execution_count": 185,
      "metadata": {
        "colab": {
          "base_uri": "https://localhost:8080/"
        },
        "id": "bYJcU5xbgOFF",
        "outputId": "199c30bd-4cad-4bc3-de5e-fe12719a9501"
      },
      "outputs": [
        {
          "name": "stdout",
          "output_type": "stream",
          "text": [
            "Iteración 1:\n",
            "\n",
            "                           Logit Regression Results                           \n",
            "==============================================================================\n",
            "Dep. Variable:                 Exited   No. Observations:                 9801\n",
            "Model:                          Logit   Df Residuals:                     9790\n",
            "Method:                           MLE   Df Model:                           10\n",
            "Date:                Mon, 27 May 2024   Pseudo R-squ.:                  0.1388\n",
            "Time:                        01:20:47   Log-Likelihood:                -4263.9\n",
            "converged:                       True   LL-Null:                       -4950.9\n",
            "Covariance Type:            nonrobust   LLR p-value:                3.825e-289\n",
            "===================================================================================\n",
            "                      coef    std err          z      P>|z|      [0.025      0.975]\n",
            "-----------------------------------------------------------------------------------\n",
            "const              -3.5376      0.245    -14.440      0.000      -4.018      -3.057\n",
            "CreditScore        -0.0006      0.000     -2.255      0.024      -0.001   -8.29e-05\n",
            "Geography           0.0795      0.033      2.382      0.017       0.014       0.145\n",
            "Gender             -0.5359      0.055     -9.830      0.000      -0.643      -0.429\n",
            "Age                 0.0726      0.003     28.190      0.000       0.068       0.078\n",
            "Tenure             -0.0155      0.009     -1.652      0.099      -0.034       0.003\n",
            "Balance          4.969e-06   4.66e-07     10.670      0.000    4.06e-06    5.88e-06\n",
            "NumOfProducts      -0.0402      0.047     -0.857      0.392      -0.132       0.052\n",
            "HasCrCard          -0.0102      0.060     -0.172      0.864      -0.127       0.106\n",
            "IsActiveMember     -1.0779      0.058    -18.643      0.000      -1.191      -0.965\n",
            "EstimatedSalary   4.48e-07   4.78e-07      0.937      0.349   -4.89e-07    1.39e-06\n",
            "===================================================================================\n",
            "\n",
            "Se eliminó la columna HasCrCard\n",
            "\n",
            "\n",
            "Iteración 2:\n",
            "\n",
            "                           Logit Regression Results                           \n",
            "==============================================================================\n",
            "Dep. Variable:                 Exited   No. Observations:                 9801\n",
            "Model:                          Logit   Df Residuals:                     9791\n",
            "Method:                           MLE   Df Model:                            9\n",
            "Date:                Mon, 27 May 2024   Pseudo R-squ.:                  0.1388\n",
            "Time:                        01:20:47   Log-Likelihood:                -4263.9\n",
            "converged:                       True   LL-Null:                       -4950.9\n",
            "Covariance Type:            nonrobust   LLR p-value:                3.054e-290\n",
            "===================================================================================\n",
            "                      coef    std err          z      P>|z|      [0.025      0.975]\n",
            "-----------------------------------------------------------------------------------\n",
            "const              -3.5453      0.241    -14.721      0.000      -4.017      -3.073\n",
            "CreditScore        -0.0006      0.000     -2.253      0.024      -0.001   -8.23e-05\n",
            "Geography           0.0795      0.033      2.383      0.017       0.014       0.145\n",
            "Gender             -0.5359      0.055     -9.831      0.000      -0.643      -0.429\n",
            "Age                 0.0726      0.003     28.191      0.000       0.068       0.078\n",
            "Tenure             -0.0155      0.009     -1.656      0.098      -0.034       0.003\n",
            "Balance          4.971e-06   4.66e-07     10.675      0.000    4.06e-06    5.88e-06\n",
            "NumOfProducts      -0.0402      0.047     -0.857      0.391      -0.132       0.052\n",
            "IsActiveMember     -1.0778      0.058    -18.643      0.000      -1.191      -0.964\n",
            "EstimatedSalary  4.483e-07   4.78e-07      0.938      0.348   -4.89e-07    1.39e-06\n",
            "===================================================================================\n",
            "\n",
            "Se eliminó la columna NumOfProducts\n",
            "\n",
            "\n",
            "Iteración 3:\n",
            "\n",
            "                           Logit Regression Results                           \n",
            "==============================================================================\n",
            "Dep. Variable:                 Exited   No. Observations:                 9801\n",
            "Model:                          Logit   Df Residuals:                     9792\n",
            "Method:                           MLE   Df Model:                            8\n",
            "Date:                Mon, 27 May 2024   Pseudo R-squ.:                  0.1387\n",
            "Time:                        01:20:47   Log-Likelihood:                -4264.3\n",
            "converged:                       True   LL-Null:                       -4950.9\n",
            "Covariance Type:            nonrobust   LLR p-value:                3.256e-291\n",
            "===================================================================================\n",
            "                      coef    std err          z      P>|z|      [0.025      0.975]\n",
            "-----------------------------------------------------------------------------------\n",
            "const              -3.6135      0.227    -15.890      0.000      -4.059      -3.168\n",
            "CreditScore        -0.0006      0.000     -2.261      0.024      -0.001   -8.47e-05\n",
            "Geography           0.0788      0.033      2.361      0.018       0.013       0.144\n",
            "Gender             -0.5347      0.054     -9.812      0.000      -0.641      -0.428\n",
            "Age                 0.0727      0.003     28.218      0.000       0.068       0.078\n",
            "Tenure             -0.0156      0.009     -1.664      0.096      -0.034       0.003\n",
            "Balance          5.073e-06    4.5e-07     11.277      0.000    4.19e-06    5.95e-06\n",
            "IsActiveMember     -1.0785      0.058    -18.656      0.000      -1.192      -0.965\n",
            "EstimatedSalary    4.4e-07   4.78e-07      0.920      0.357   -4.97e-07    1.38e-06\n",
            "===================================================================================\n",
            "\n",
            "Se eliminó la columna EstimatedSalary\n",
            "\n",
            "\n",
            "Iteración 4:\n",
            "\n",
            "                           Logit Regression Results                           \n",
            "==============================================================================\n",
            "Dep. Variable:                 Exited   No. Observations:                 9801\n",
            "Model:                          Logit   Df Residuals:                     9793\n",
            "Method:                           MLE   Df Model:                            7\n",
            "Date:                Mon, 27 May 2024   Pseudo R-squ.:                  0.1386\n",
            "Time:                        01:20:47   Log-Likelihood:                -4264.7\n",
            "converged:                       True   LL-Null:                       -4950.9\n",
            "Covariance Type:            nonrobust   LLR p-value:                3.419e-292\n",
            "==================================================================================\n",
            "                     coef    std err          z      P>|z|      [0.025      0.975]\n",
            "----------------------------------------------------------------------------------\n",
            "const             -3.5668      0.222    -16.097      0.000      -4.001      -3.133\n",
            "CreditScore       -0.0006      0.000     -2.268      0.023      -0.001   -8.66e-05\n",
            "Geography          0.0788      0.033      2.362      0.018       0.013       0.144\n",
            "Gender            -0.5351      0.054     -9.820      0.000      -0.642      -0.428\n",
            "Age                0.0726      0.003     28.214      0.000       0.068       0.078\n",
            "Tenure            -0.0155      0.009     -1.652      0.099      -0.034       0.003\n",
            "Balance         5.078e-06    4.5e-07     11.289      0.000     4.2e-06    5.96e-06\n",
            "IsActiveMember    -1.0793      0.058    -18.672      0.000      -1.193      -0.966\n",
            "==================================================================================\n",
            "\n",
            "Se eliminó la columna Tenure\n",
            "\n",
            "\n",
            "Iteración 5:\n",
            "\n",
            "                           Logit Regression Results                           \n",
            "==============================================================================\n",
            "Dep. Variable:                 Exited   No. Observations:                 9801\n",
            "Model:                          Logit   Df Residuals:                     9794\n",
            "Method:                           MLE   Df Model:                            6\n",
            "Date:                Mon, 27 May 2024   Pseudo R-squ.:                  0.1383\n",
            "Time:                        01:20:47   Log-Likelihood:                -4266.0\n",
            "converged:                       True   LL-Null:                       -4950.9\n",
            "Covariance Type:            nonrobust   LLR p-value:                8.456e-293\n",
            "==================================================================================\n",
            "                     coef    std err          z      P>|z|      [0.025      0.975]\n",
            "----------------------------------------------------------------------------------\n",
            "const             -3.6428      0.217    -16.794      0.000      -4.068      -3.218\n",
            "CreditScore       -0.0006      0.000     -2.277      0.023      -0.001   -8.92e-05\n",
            "Geography          0.0790      0.033      2.367      0.018       0.014       0.144\n",
            "Gender            -0.5364      0.054     -9.847      0.000      -0.643      -0.430\n",
            "Age                0.0726      0.003     28.214      0.000       0.068       0.078\n",
            "Balance         5.075e-06    4.5e-07     11.287      0.000    4.19e-06    5.96e-06\n",
            "IsActiveMember    -1.0764      0.058    -18.634      0.000      -1.190      -0.963\n",
            "==================================================================================\n",
            "\n",
            "El modelo ha sido exitosamente optimizado\n",
            "\n"
          ]
        }
      ],
      "source": [
        "dataset_tymo_optimized = dataset_tymo_regression_dropna.copy(deep=True)\n",
        "dataset_tymo_optimized.drop(columns=['CustomerId'], inplace=True)\n",
        "confidence_level = 0.05\n",
        "counter = 1\n",
        "\n",
        "def optimize_regression(dataset, confidence_level: Optional[float] = 0.05):\n",
        "    # Drop the constant column\n",
        "    if 'const' in dataset.columns: # if it exists\n",
        "        dataset.drop(columns=['const'], inplace=True)\n",
        "\n",
        "    # Run a logistic regression model with all variables and the churn as the target\n",
        "    x = dataset.drop(columns=['Exited'])\n",
        "    y = dataset['Exited']\n",
        "\n",
        "    x = sm.add_constant(x)\n",
        "    model = sm.Logit(y, x)\n",
        "    result = model.fit(disp=False)\n",
        "    drop_cols = {}\n",
        "\n",
        "    # Access the p-values of the model\n",
        "    for index in result.pvalues.index:\n",
        "        if result.pvalues[index] >= confidence_level:\n",
        "            drop_cols[index] = result.pvalues[index]\n",
        "\n",
        "    return (result, {col: p_value for col, p_value in drop_cols.items() if col != 'const'})\n",
        "\n",
        "while True:\n",
        "    print(f'Iteración {counter}:\\n')\n",
        "    result, drop_cols = optimize_regression(dataset_tymo_optimized, confidence_level)\n",
        "    print(result.summary())\n",
        "\n",
        "    if len(drop_cols) == 0:\n",
        "        print('\\nEl modelo ha sido exitosamente optimizado\\n')\n",
        "        break\n",
        "    else:\n",
        "        counter += 1\n",
        "\n",
        "    # Drop the column with the highest p-value\n",
        "    column_to_drop = max(drop_cols, key=drop_cols.get)\n",
        "    dataset_tymo_optimized.drop(columns=column_to_drop, inplace=True)\n",
        "    drop_cols.pop(column_to_drop)\n",
        "\n",
        "    print(f'\\nSe eliminó la columna {column_to_drop}\\n\\n')"
      ]
    },
    {
      "cell_type": "markdown",
      "metadata": {
        "id": "vTfBTZi3gOFF"
      },
      "source": [
        "<h2>Evaluar la efectividad del Modelo</h2>\n",
        "\n"
      ]
    },
    {
      "cell_type": "markdown",
      "metadata": {
        "id": "9NTko7ifpMXe"
      },
      "source": [
        "Estas líneas de código evalúan nuestro modelo de predicción de fuga. La funcion evaluate_model convierte probabilidades en valores binarios, calcula la matriz de confusión. La matriz de confusión es clave, ya que muestra la cantidad de verdaderos positivos, verdaderos negativos, falsos positivos y falsos negativos, permitiendo identificar donde el modelo acierta y falla, proporcionando información valiosa para evaluar financieramente el costo asociado a la fuga."
      ]
    },
    {
      "cell_type": "markdown",
      "metadata": {
        "id": "PcZKbP_ppeby"
      },
      "source": []
    },
    {
      "cell_type": "code",
      "execution_count": 186,
      "metadata": {
        "colab": {
          "base_uri": "https://localhost:8080/",
          "height": 178
        },
        "id": "Ukm8emjEgOFF",
        "outputId": "c52f0d9b-4853-47e1-dff9-d22f7e20e9f5"
      },
      "outputs": [
        {
          "name": "stdout",
          "output_type": "stream",
          "text": [
            "La exactitud del modelo es de 80.76%\n",
            "\n"
          ]
        },
        {
          "data": {
            "text/html": [
              "<div>\n",
              "<style scoped>\n",
              "    .dataframe tbody tr th:only-of-type {\n",
              "        vertical-align: middle;\n",
              "    }\n",
              "\n",
              "    .dataframe tbody tr th {\n",
              "        vertical-align: top;\n",
              "    }\n",
              "\n",
              "    .dataframe thead th {\n",
              "        text-align: right;\n",
              "    }\n",
              "</style>\n",
              "<table border=\"1\" class=\"dataframe\">\n",
              "  <thead>\n",
              "    <tr style=\"text-align: right;\">\n",
              "      <th>Predicted</th>\n",
              "      <th>0</th>\n",
              "      <th>1</th>\n",
              "    </tr>\n",
              "    <tr>\n",
              "      <th>Actual</th>\n",
              "      <th></th>\n",
              "      <th></th>\n",
              "    </tr>\n",
              "  </thead>\n",
              "  <tbody>\n",
              "    <tr>\n",
              "      <th>0</th>\n",
              "      <td>7562</td>\n",
              "      <td>245</td>\n",
              "    </tr>\n",
              "    <tr>\n",
              "      <th>1</th>\n",
              "      <td>1641</td>\n",
              "      <td>353</td>\n",
              "    </tr>\n",
              "  </tbody>\n",
              "</table>\n",
              "</div>"
            ],
            "text/plain": [
              "Predicted     0    1\n",
              "Actual              \n",
              "0          7562  245\n",
              "1          1641  353"
            ]
          },
          "metadata": {},
          "output_type": "display_data"
        }
      ],
      "source": [
        "# Definir la función de evaluación\n",
        "def evaluate_model(model, x, y):\n",
        "    # Obtener los valores predichos\n",
        "    y_pred_prob = model.predict(sm.add_constant(x))\n",
        "\n",
        "    # Convertir las probabilidades a valores binarios\n",
        "    y_pred = [1 if value > 0.5 else 0 for value in y_pred_prob]\n",
        "\n",
        "    # Calcular la matriz de confusión\n",
        "    confusion_matrix = pd.crosstab(y, y_pred, rownames=['Actual'], colnames=['Predicted'])\n",
        "\n",
        "    # Calcular la exactitud\n",
        "    accuracy = (confusion_matrix[0][0] + confusion_matrix[1][1]) / len(y)\n",
        "\n",
        "    return accuracy, confusion_matrix\n",
        "\n",
        "# Preparar los datos (usando el mismo conjunto de datos que el modelo entrenado)\n",
        "x = dataset_tymo_optimized.drop(columns=['Exited'])\n",
        "y = dataset_tymo_optimized['Exited']\n",
        "\n",
        "# Evaluar el modelo\n",
        "accuracy, confusion_matrix = evaluate_model(result, x, y)\n",
        "print(f'La exactitud del modelo es de {accuracy * 100:.2f}%\\n')\n",
        "display(confusion_matrix)"
      ]
    },
    {
      "cell_type": "markdown",
      "metadata": {
        "id": "NORMVbnYgOFF"
      },
      "source": [
        "<h2>Efectos Porcentuales</h2>\n",
        "\n",
        "Por último, transformaremos los coeficientes en odds ratios y en porcentajes, para poder interpretar de mejor manera el efecto de cada factor sobre la fuga de clientes."
      ]
    },
    {
      "cell_type": "code",
      "execution_count": 187,
      "metadata": {
        "colab": {
          "base_uri": "https://localhost:8080/"
        },
        "id": "fLT1MpXAgOFF",
        "outputId": "d5b16fa8-e696-44b3-b5ee-113780439a0a"
      },
      "outputs": [
        {
          "name": "stdout",
          "output_type": "stream",
          "text": [
            "                Coefficient  Odds Ratio  Percentage Change\n",
            "const             -3.642751    0.026180         -97.381977\n",
            "CreditScore       -0.000640    0.999360          -0.063966\n",
            "Geography          0.078973    1.082175           8.217493\n",
            "Gender            -0.536416    0.584841         -41.515916\n",
            "Age                0.072620    1.075322           7.532192\n",
            "Balance            0.000005    1.000005           0.000508\n",
            "IsActiveMember    -1.076373    0.340830         -65.917037\n"
          ]
        }
      ],
      "source": [
        "# Obtener los coeficientes\n",
        "coefficients = result.params\n",
        "\n",
        "# Calcular los odds ratios\n",
        "odds_ratios = np.exp(coefficients)\n",
        "\n",
        "# Calcular los porcentajes de cambio\n",
        "percentages = (odds_ratios - 1) * 100\n",
        "\n",
        "# Mostrar los resultados\n",
        "results_df = pd.DataFrame({\n",
        "    'Coefficient': coefficients,\n",
        "    'Odds Ratio': odds_ratios,\n",
        "    'Percentage Change': percentages\n",
        "})\n",
        "\n",
        "print(results_df)"
      ]
    },
    {
      "cell_type": "markdown",
      "metadata": {
        "id": "VFu5QsdEgOFF"
      },
      "source": [
        "<h2>Respuesta a la pregunta final del ejercicio</h2>\n",
        "\n",
        "¿Cómo podríamos utilizar un modelo de regresión logística para desarrollar una herramienta de predicción continua que alerte sobre clientes potencialmente fugitivos?\n",
        "Integrar el modelo en el sistema CRM permite monitorear las probabilidades de fuga en tiempo real y configurar alertas automatizadas. Esto facilita la segmentación de clientes y la personalización de estrategias de retención basadas en factores específicos que contribuyen a la probabilidad de fuga."
      ]
    }
  ],
  "metadata": {
    "colab": {
      "provenance": []
    },
    "kernelspec": {
      "display_name": "Python 3",
      "name": "python3"
    },
    "language_info": {
      "codemirror_mode": {
        "name": "ipython",
        "version": 3
      },
      "file_extension": ".py",
      "mimetype": "text/x-python",
      "name": "python",
      "nbconvert_exporter": "python",
      "pygments_lexer": "ipython3",
      "version": "3.11.4"
    }
  },
  "nbformat": 4,
  "nbformat_minor": 0
}
